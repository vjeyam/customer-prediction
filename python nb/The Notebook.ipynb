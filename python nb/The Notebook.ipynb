{
 "cells": [
  {
   "cell_type": "markdown",
   "metadata": {
    "id": "xEcr4jdzTP7t"
   },
   "source": [
    "# **Welcome To the Notebook** \n"
   ]
  },
  {
   "cell_type": "markdown",
   "metadata": {
    "id": "O1eOogPqix4i"
   },
   "source": [
    "### **Task 1 - Loading our data**\n",
    "\n",
    "Installing the pyspark using pip"
   ]
  },
  {
   "cell_type": "code",
   "execution_count": null,
   "metadata": {
    "colab": {
     "base_uri": "https://localhost:8080/"
    },
    "id": "pYfUECtFisDa",
    "outputId": "7a88ce4f-9754-4859-cdfc-ca329a4181fc"
   },
   "outputs": [],
   "source": [
    "!pip install pyspark"
   ]
  },
  {
   "cell_type": "markdown",
   "metadata": {
    "id": "cr4LlOxmvUmW"
   },
   "source": [
    "Importing Modules"
   ]
  },
  {
   "cell_type": "code",
   "execution_count": null,
   "metadata": {
    "id": "tiE8RPAHvWHD"
   },
   "outputs": [],
   "source": [
    "# importing spark session\n",
    "from pyspark.sql import SparkSession\n",
    "\n",
    "# data visualization modules \n",
    "import matplotlib.pyplot as plt\n",
    "import plotly.express as px \n",
    "\n",
    "# pandas module \n",
    "import pandas as pd\n",
    "\n",
    "# pyspark SQL functions \n",
    "from pyspark.sql.functions import col, when, count, udf\n",
    "\n",
    "# pyspark data preprocessing modules\n",
    "from pyspark.ml.feature import Imputer, StringIndexer, VectorAssembler, StandardScaler, OneHotEncoder\n",
    "\n",
    "# pyspark data modeling and model evaluation modules\n",
    "from pyspark.ml.classification import DecisionTreeClassifier\n",
    "from pyspark.ml.evaluation import BinaryClassificationEvaluator\n"
   ]
  },
  {
   "cell_type": "markdown",
   "metadata": {
    "id": "W-_0aGYvj6sI"
   },
   "source": [
    "Building our Spark Session"
   ]
  },
  {
   "cell_type": "code",
   "execution_count": null,
   "metadata": {
    "colab": {
     "base_uri": "https://localhost:8080/",
     "height": 219
    },
    "id": "qQgz_0Zgiilu",
    "outputId": "c2d690a8-e119-45e5-975f-57d16e55e1a7"
   },
   "outputs": [],
   "source": [
    "spark = SparkSession.builder.appName(\"Customer_Churn_Prediction\").getOrCreate()\n",
    "spark"
   ]
  },
  {
   "cell_type": "markdown",
   "metadata": {
    "id": "B1aneLUYvh71"
   },
   "source": [
    "Loading our data"
   ]
  },
  {
   "cell_type": "code",
   "execution_count": null,
   "metadata": {
    "colab": {
     "base_uri": "https://localhost:8080/"
    },
    "id": "J3Y1melCvqN5",
    "outputId": "4ec11999-9b13-425d-b229-f1455a667e9c"
   },
   "outputs": [],
   "source": []
  },
  {
   "cell_type": "markdown",
   "metadata": {
    "id": "TeY_Znoi4WQA"
   },
   "source": [
    "Print the data schema to check out the data types"
   ]
  },
  {
   "cell_type": "code",
   "execution_count": null,
   "metadata": {
    "colab": {
     "base_uri": "https://localhost:8080/"
    },
    "id": "6yopaRXr4Ufr",
    "outputId": "0f54436b-6e4e-4c4a-8918-602bf92dba77"
   },
   "outputs": [],
   "source": []
  },
  {
   "cell_type": "markdown",
   "metadata": {
    "id": "Od0SPukD3kPI"
   },
   "source": [
    "Get the data dimension "
   ]
  },
  {
   "cell_type": "code",
   "execution_count": null,
   "metadata": {
    "colab": {
     "base_uri": "https://localhost:8080/"
    },
    "id": "EW0B267Wv0tm",
    "outputId": "26ad0524-5261-4398-d7c2-3a953262cf9a"
   },
   "outputs": [],
   "source": []
  },
  {
   "cell_type": "markdown",
   "metadata": {
    "id": "oZzDBEKT2H9P"
   },
   "source": [
    "### **Task 2 - Exploratory Data Analysis**\n",
    "- Distribution Analysis\n",
    "- Correlation Analysis \n",
    "- Univariate Analysis \n",
    "- Finding Missing values"
   ]
  },
  {
   "cell_type": "markdown",
   "metadata": {
    "id": "VUWEEw9VTVor"
   },
   "source": [
    "Let's define some lists to store different column names with different data types."
   ]
  },
  {
   "cell_type": "code",
   "execution_count": null,
   "metadata": {
    "colab": {
     "base_uri": "https://localhost:8080/"
    },
    "id": "H4cJoyG-Ubel",
    "outputId": "d657bcec-743b-4e07-de9a-dfb96dd51cd7"
   },
   "outputs": [],
   "source": []
  },
  {
   "cell_type": "markdown",
   "metadata": {
    "id": "DYoYREY75vfo"
   },
   "source": [
    "Let's get all the numerical features and store them into a pandas dataframe."
   ]
  },
  {
   "cell_type": "code",
   "execution_count": null,
   "metadata": {
    "colab": {
     "base_uri": "https://localhost:8080/",
     "height": 206
    },
    "id": "CWYeP2xp45Ot",
    "outputId": "c5a72014-9cad-4e3e-99bf-6b5dbbbd84d4"
   },
   "outputs": [],
   "source": []
  },
  {
   "cell_type": "markdown",
   "metadata": {
    "id": "PZgNnbgnNtTe"
   },
   "source": [
    "Let's create histograms to analyse the distribution of our numerical columns. "
   ]
  },
  {
   "cell_type": "code",
   "execution_count": null,
   "metadata": {
    "colab": {
     "base_uri": "https://localhost:8080/",
     "height": 974
    },
    "id": "gizkvQ3oNsuo",
    "outputId": "f56ba6ed-3112-42cb-845f-a637ae4c8489"
   },
   "outputs": [],
   "source": []
  },
  {
   "cell_type": "markdown",
   "metadata": {
    "id": "9qjCcR72ru2_"
   },
   "source": [
    "Let's generate the correlation matrix "
   ]
  },
  {
   "cell_type": "code",
   "execution_count": null,
   "metadata": {
    "colab": {
     "base_uri": "https://localhost:8080/",
     "height": 143
    },
    "id": "ldNx2GuVrvAR",
    "outputId": "ae29ba81-c8bb-4b06-83f3-e9338143f7fc"
   },
   "outputs": [],
   "source": []
  },
  {
   "cell_type": "markdown",
   "metadata": {
    "id": "vbBRqQQJhmqg"
   },
   "source": [
    "Let's check the unique value count per each categorical variables"
   ]
  },
  {
   "cell_type": "code",
   "execution_count": null,
   "metadata": {
    "colab": {
     "base_uri": "https://localhost:8080/"
    },
    "id": "pgXj3fjJb0th",
    "outputId": "2caa145f-55b2-4dae-a297-e74a8ea857d6"
   },
   "outputs": [],
   "source": []
  },
  {
   "cell_type": "markdown",
   "metadata": {
    "id": "mgmiBcimTw5z"
   },
   "source": [
    "Let's find number of null values in all of our dataframe columns"
   ]
  },
  {
   "cell_type": "code",
   "execution_count": null,
   "metadata": {
    "colab": {
     "base_uri": "https://localhost:8080/"
    },
    "id": "-vlBo7LWT1kB",
    "outputId": "d783add2-6bc8-4cc2-bf33-384bce02ed9a"
   },
   "outputs": [],
   "source": []
  },
  {
   "cell_type": "markdown",
   "metadata": {
    "id": "WcTLE0ZdS-so"
   },
   "source": [
    "### **Task 3 - Data Preprocessing**\n",
    "- Handling the missing values\n",
    "- Removing the outliers"
   ]
  },
  {
   "cell_type": "markdown",
   "metadata": {
    "id": "bDKvkUiwzt_H"
   },
   "source": [
    "**Handling the missing values** <br>\n",
    "Let's create a list of column names with missing values"
   ]
  },
  {
   "cell_type": "code",
   "execution_count": null,
   "metadata": {
    "id": "ABZfAKxRS3CN"
   },
   "outputs": [],
   "source": []
  },
  {
   "cell_type": "markdown",
   "metadata": {
    "id": "ny4cfwKYzzJN"
   },
   "source": [
    "Creating our Imputer"
   ]
  },
  {
   "cell_type": "code",
   "execution_count": null,
   "metadata": {
    "id": "lqBhbzyNzyFs"
   },
   "outputs": [],
   "source": []
  },
  {
   "cell_type": "markdown",
   "metadata": {
    "id": "2XgghJUpz6wv"
   },
   "source": [
    "Use Imputer to fill the missing values"
   ]
  },
  {
   "cell_type": "code",
   "execution_count": null,
   "metadata": {
    "id": "LmMfG-Gqz4m4"
   },
   "outputs": [],
   "source": []
  },
  {
   "cell_type": "markdown",
   "metadata": {
    "id": "8fKFfw2G0A4j"
   },
   "source": [
    "Let's check the missing value counts again"
   ]
  },
  {
   "cell_type": "code",
   "execution_count": null,
   "metadata": {
    "colab": {
     "base_uri": "https://localhost:8080/"
    },
    "id": "LscLsydL0Dg_",
    "outputId": "7ce07901-f7c6-4b85-f373-825dfff84d05"
   },
   "outputs": [],
   "source": []
  },
  {
   "cell_type": "markdown",
   "metadata": {
    "id": "g9JJoI4_1Ao5"
   },
   "source": [
    "**Removing the outliers** <br>\n",
    "Let's find the customer with the tenure higher than 100 "
   ]
  },
  {
   "cell_type": "code",
   "execution_count": null,
   "metadata": {
    "colab": {
     "base_uri": "https://localhost:8080/"
    },
    "id": "GuUgYzfM1ICN",
    "outputId": "2ab253ce-9a55-449f-c1c0-c8e8bd12543c"
   },
   "outputs": [],
   "source": []
  },
  {
   "cell_type": "markdown",
   "metadata": {
    "id": "YcaebVkh2CoU"
   },
   "source": [
    "Let's drop the outlier row"
   ]
  },
  {
   "cell_type": "code",
   "execution_count": null,
   "metadata": {
    "colab": {
     "base_uri": "https://localhost:8080/"
    },
    "id": "ANT7iLlB2Et5",
    "outputId": "546823e5-cfc3-4b2b-f335-8e5220efedf8"
   },
   "outputs": [],
   "source": []
  },
  {
   "cell_type": "markdown",
   "metadata": {
    "id": "CQMD4VIuPDen"
   },
   "source": [
    "### **Task 4 - Feature Preparation**\n",
    "- Numerical Features \n",
    "    - Vector Assembling\n",
    "    - Numerical Scaling\n",
    "- Categorical Features\n",
    "    - String Indexing\n",
    "    - Vector Assembling\n",
    "\n",
    "- Combining the numerical and categorical feature vectors\n",
    "\n",
    "\n",
    "\n",
    "\n",
    "**Feature Preparation - Numerical Features** <br>\n",
    "\n",
    "`Vector Assembling --> Standard Scaling` <br>\n",
    "\n",
    "**Vector Assembling** <br>\n",
    "To apply our machine learning model we need to combine all of our numerical and categorical features into vectors. For now let's create a feature vector for our numerical columns.\n"
   ]
  },
  {
   "cell_type": "code",
   "execution_count": null,
   "metadata": {
    "colab": {
     "base_uri": "https://localhost:8080/"
    },
    "id": "7_g7Hu3HPC9Q",
    "outputId": "97777af8-b505-4711-fddd-fbf851c3feca"
   },
   "outputs": [],
   "source": []
  },
  {
   "cell_type": "markdown",
   "metadata": {
    "id": "U39MK-kfYnpc"
   },
   "source": [
    "**Numerical Scaling** <br>\n",
    "Let's standardize all of our numerical features. "
   ]
  },
  {
   "cell_type": "code",
   "execution_count": null,
   "metadata": {
    "colab": {
     "base_uri": "https://localhost:8080/"
    },
    "id": "RqvD874WSQEs",
    "outputId": "8ea4e461-a1a1-4f5a-8273-6daa88eeb2d1"
   },
   "outputs": [],
   "source": []
  },
  {
   "cell_type": "markdown",
   "metadata": {
    "id": "KfbVsiv6Z1SM"
   },
   "source": [
    "**Feature Preperation - Categorical Features** <br>\n",
    "\n",
    "`String Indexing --> Vector Assembling` <br>\n",
    "\n",
    "**String Indexing** <br>\n",
    "We need to convert all the string columns to numeric columns."
   ]
  },
  {
   "cell_type": "code",
   "execution_count": null,
   "metadata": {
    "colab": {
     "base_uri": "https://localhost:8080/"
    },
    "id": "U7xmubmpZ1zo",
    "outputId": "648ec4c6-11e1-4861-d132-b29b414882c4"
   },
   "outputs": [],
   "source": []
  },
  {
   "cell_type": "markdown",
   "metadata": {
    "id": "566hiGhl_1m0"
   },
   "source": [
    "Let's combine all of our categorifal features in to one feature vector."
   ]
  },
  {
   "cell_type": "code",
   "execution_count": null,
   "metadata": {
    "colab": {
     "base_uri": "https://localhost:8080/"
    },
    "id": "Uh0qcHDb6q8t",
    "outputId": "a11c2930-1388-4844-b5f5-b36b093ea034"
   },
   "outputs": [],
   "source": []
  },
  {
   "cell_type": "markdown",
   "metadata": {
    "id": "4G0bVH-vALJt"
   },
   "source": [
    "Now let's combine categorical and numerical feature vectors."
   ]
  },
  {
   "cell_type": "code",
   "execution_count": null,
   "metadata": {
    "colab": {
     "base_uri": "https://localhost:8080/"
    },
    "id": "UrsFk-CZZgrV",
    "outputId": "0d36be9b-0157-4f42-e115-8da195881620"
   },
   "outputs": [],
   "source": []
  },
  {
   "cell_type": "markdown",
   "metadata": {
    "id": "_og11F0MdrYE"
   },
   "source": [
    "### **Task 5 - Model Training**\n",
    "- Train and Test data splitting \n",
    "- Creating our model \n",
    "- Training our model \n",
    "- Make initial predictions using our model\n",
    "\n",
    "In this task, we are going to start training our model"
   ]
  },
  {
   "cell_type": "code",
   "execution_count": null,
   "metadata": {
    "colab": {
     "base_uri": "https://localhost:8080/"
    },
    "id": "8VFwkblddkdV",
    "outputId": "bde88d04-2ed7-43a2-9e6b-d343e6b6e81b"
   },
   "outputs": [],
   "source": []
  },
  {
   "cell_type": "markdown",
   "metadata": {
    "id": "aiAJrl8oEKIk"
   },
   "source": [
    "Now let's create and train our desicion tree"
   ]
  },
  {
   "cell_type": "code",
   "execution_count": null,
   "metadata": {
    "id": "bObhrM_4nKCf"
   },
   "outputs": [],
   "source": []
  },
  {
   "cell_type": "markdown",
   "metadata": {
    "id": "cy_-7W2LEO9j"
   },
   "source": [
    "Let's make predictions on our test data"
   ]
  },
  {
   "cell_type": "code",
   "execution_count": null,
   "metadata": {
    "colab": {
     "base_uri": "https://localhost:8080/"
    },
    "id": "AqU9-y6dEOqq",
    "outputId": "67be60e9-f5c5-4f39-fcfb-1ff153ecff22"
   },
   "outputs": [],
   "source": []
  },
  {
   "cell_type": "markdown",
   "metadata": {
    "id": "sZXX1rqz8hoT"
   },
   "source": [
    "### **Task 6 - Model Evaluation**\n",
    "- Calculating area under the ROC curve for the `test` set \n",
    "- Calculating area under the ROC curve for the `training` set \n",
    "- Hyper parameter tuning"
   ]
  },
  {
   "cell_type": "code",
   "execution_count": null,
   "metadata": {
    "colab": {
     "base_uri": "https://localhost:8080/"
    },
    "id": "V8Ldw-rno18o",
    "outputId": "57f300dc-9763-4817-c5e2-a107456061cc"
   },
   "outputs": [],
   "source": []
  },
  {
   "cell_type": "markdown",
   "metadata": {
    "id": "nXpG_p4BGEhq"
   },
   "source": [
    "Let's get the AUC for our `training` set"
   ]
  },
  {
   "cell_type": "code",
   "execution_count": null,
   "metadata": {
    "colab": {
     "base_uri": "https://localhost:8080/"
    },
    "id": "LVkrmoC8GErZ",
    "outputId": "7446fa6f-7d62-411f-bf7b-16f2dd2c35fa"
   },
   "outputs": [],
   "source": []
  },
  {
   "cell_type": "markdown",
   "metadata": {
    "id": "HH4ZH3yFHbvS"
   },
   "source": [
    "**Hyper parameter tuning**\n",
    "\n",
    "Let's find the best `maxDepth` parameter for our DT model. "
   ]
  },
  {
   "cell_type": "code",
   "execution_count": null,
   "metadata": {
    "id": "CwkzV8xLHNlE"
   },
   "outputs": [],
   "source": [
    "def evaluate_dt(mode_params):\n",
    "      test_accuracies = []\n",
    "      train_accuracies = []\n",
    "\n",
    "      for maxD in mode_params:\n",
    "        # train the model based on the maxD\n",
    "        decision_tree = DecisionTreeClassifier(featuresCol = 'final_feature_vector', labelCol = 'Churn_Indexed', maxDepth = maxD)\n",
    "        dtModel = decision_tree.fit(train)\n",
    "\n",
    "        # calculating test error \n",
    "        predictions_test = dtModel.transform(test)\n",
    "        evaluator = BinaryClassificationEvaluator(labelCol=\"Churn_Indexed\")\n",
    "        auc_test = evaluator.evaluate(predictions_test, {evaluator.metricName: \"areaUnderROC\"})\n",
    "        # recording the accuracy \n",
    "        test_accuracies.append(auc_test)\n",
    "\n",
    "        # calculating training error\n",
    "        predictions_training = dtModel.transform(train)\n",
    "        evaluator = BinaryClassificationEvaluator(labelCol=\"Churn_Indexed\")\n",
    "        auc_training = evaluator.evaluate(predictions_training, {evaluator.metricName: \"areaUnderROC\"})\n",
    "        train_accuracies.append(auc_training)\n",
    "\n",
    "      return(test_accuracies, train_accuracies)  "
   ]
  },
  {
   "cell_type": "markdown",
   "metadata": {
    "id": "37QrYjWvcE4Z"
   },
   "source": [
    "Let's define `params` list to evaluate our model iteratively with differe maxDepth parameter.  "
   ]
  },
  {
   "cell_type": "code",
   "execution_count": null,
   "metadata": {
    "colab": {
     "base_uri": "https://localhost:8080/"
    },
    "id": "6rVz17-jIoVC",
    "outputId": "0a4f788a-d1b9-4862-fe75-12723cf56f31"
   },
   "outputs": [],
   "source": []
  },
  {
   "cell_type": "markdown",
   "metadata": {
    "id": "3uBlqQ2-cWCm"
   },
   "source": [
    "Let's visualize our results"
   ]
  },
  {
   "cell_type": "code",
   "execution_count": null,
   "metadata": {
    "colab": {
     "base_uri": "https://localhost:8080/",
     "height": 542
    },
    "id": "PqFqOfKvJATk",
    "outputId": "6241d01a-cfad-4fcc-8e8f-eaf83a6cd3f5"
   },
   "outputs": [],
   "source": []
  },
  {
   "cell_type": "markdown",
   "metadata": {
    "id": "koCUPBFUKDIZ"
   },
   "source": [
    "### **7 - Model Deployment**\n",
    "- Giving Recommendations using our model "
   ]
  },
  {
   "cell_type": "markdown",
   "metadata": {
    "id": "xomU5qnMUdWJ"
   },
   "source": [
    "\n",
    "\n",
    "We were asked to recommend a solution to reduce the customer churn. \n"
   ]
  },
  {
   "cell_type": "code",
   "execution_count": null,
   "metadata": {
    "colab": {
     "base_uri": "https://localhost:8080/",
     "height": 542
    },
    "id": "1FIFIqdLsAvq",
    "outputId": "ba7de309-8415-42dc-fba0-7712632d8509"
   },
   "outputs": [],
   "source": []
  },
  {
   "cell_type": "markdown",
   "metadata": {
    "id": "n_FrIiJwWuwg"
   },
   "source": [
    "Let's create a bar chart to visualize the customer churn per contract type"
   ]
  },
  {
   "cell_type": "code",
   "execution_count": null,
   "metadata": {
    "colab": {
     "base_uri": "https://localhost:8080/",
     "height": 542
    },
    "id": "V4eObw2aK7Qp",
    "outputId": "f824121b-15c7-4045-a0b5-0f4549ca2eea"
   },
   "outputs": [],
   "source": []
  },
  {
   "cell_type": "markdown",
   "metadata": {
    "id": "MhaY0_iA6pp1"
   },
   "source": [
    "The bar chart displays the number of churned customers based on their contract type. It is evident that customers with a \"Month-to-month\" contract have a higher churn rate compared to those with \"One year\" or \"Two year\" contracts. As a recommendation, the telecommunication company could consider offering incentives or discounts to encourage customers with month-to-month contracts to switch to longer-term contracts. "
   ]
  }
 ],
 "metadata": {
  "colab": {
   "collapsed_sections": [
    "O1eOogPqix4i",
    "oZzDBEKT2H9P",
    "WcTLE0ZdS-so",
    "CQMD4VIuPDen",
    "_og11F0MdrYE",
    "sZXX1rqz8hoT",
    "koCUPBFUKDIZ"
   ],
   "provenance": []
  },
  "kernelspec": {
   "display_name": "Python 3",
   "language": "python",
   "name": "python3"
  },
  "language_info": {
   "codemirror_mode": {
    "name": "ipython",
    "version": 3
   },
   "file_extension": ".py",
   "mimetype": "text/x-python",
   "name": "python",
   "nbconvert_exporter": "python",
   "pygments_lexer": "ipython3",
   "version": "3.8.10"
  }
 },
 "nbformat": 4,
 "nbformat_minor": 1
}
